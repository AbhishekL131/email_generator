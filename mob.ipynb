{
 "cells": [
  {
   "cell_type": "code",
   "execution_count": 2,
   "metadata": {},
   "outputs": [],
   "source": [
    "from langchain_groq import ChatGroq\n",
    "from all_keys import groq_api_key"
   ]
  },
  {
   "cell_type": "code",
   "execution_count": 3,
   "metadata": {},
   "outputs": [],
   "source": [
    "llm = ChatGroq(\n",
    "    model=\"llama-3.3-70b-versatile\",\n",
    "    api_key=groq_api_key,\n",
    "    temperature=0.6\n",
    ")"
   ]
  },
  {
   "cell_type": "code",
   "execution_count": 4,
   "metadata": {},
   "outputs": [],
   "source": [
    "from langchain.prompts import PromptTemplate"
   ]
  },
  {
   "cell_type": "code",
   "execution_count": 5,
   "metadata": {},
   "outputs": [],
   "source": [
    "prompt_features = PromptTemplate(\n",
    "    input_variables=['company','PriceRange'],\n",
    "    template=''' \n",
    "   suggest me list of mobile phones of {company} within the price range of {PriceRange}.\n",
    "\n",
    "   ### INSTRUCTIONS\n",
    "   - strictly no preamble\n",
    "   - list should include camera,price on 2 diff platforms,processor,battery capacity \n",
    "'''\n",
    ")"
   ]
  },
  {
   "cell_type": "code",
   "execution_count": 6,
   "metadata": {},
   "outputs": [
    {
     "data": {
      "text/plain": [
       "' \\n   suggest me list of mobile phones of samsung within the price range of 10000-18000.\\n\\n   ### INSTRUCTIONS\\n   - strictly no preamble\\n   - list should include camera,price on 2 diff platforms,processor,battery capacity \\n'"
      ]
     },
     "execution_count": 6,
     "metadata": {},
     "output_type": "execute_result"
    }
   ],
   "source": [
    "prompt_features.format(company = \"samsung\",PriceRange = \"10000-18000\")"
   ]
  },
  {
   "cell_type": "code",
   "execution_count": 7,
   "metadata": {},
   "outputs": [],
   "source": [
    "from langchain.chains import LLMChain"
   ]
  },
  {
   "cell_type": "code",
   "execution_count": 8,
   "metadata": {},
   "outputs": [
    {
     "name": "stderr",
     "output_type": "stream",
     "text": [
      "/var/folders/lg/ptvtf8315t182q0k_rny_7c80000gn/T/ipykernel_6028/1475332076.py:1: LangChainDeprecationWarning: The class `LLMChain` was deprecated in LangChain 0.1.17 and will be removed in 1.0. Use :meth:`~RunnableSequence, e.g., `prompt | llm`` instead.\n",
      "  chain = LLMChain(llm=llm,prompt = prompt_features)\n"
     ]
    }
   ],
   "source": [
    "chain = LLMChain(llm=llm,prompt = prompt_features)"
   ]
  },
  {
   "cell_type": "code",
   "execution_count": 12,
   "metadata": {},
   "outputs": [],
   "source": [
    "results = chain.run(company = \"Apple\",PriceRange = \"100000-150000\")"
   ]
  },
  {
   "cell_type": "code",
   "execution_count": 13,
   "metadata": {},
   "outputs": [
    {
     "name": "stdout",
     "output_type": "stream",
     "text": [
      "1. Apple iPhone 13\n",
      "   - Camera: 12MP + 12MP\n",
      "   - Price: Flipkart - ₹109,900, Amazon - ₹112,900\n",
      "   - Processor: Apple A15 Bionic\n",
      "   - Battery Capacity: 4082mAh\n",
      "\n",
      "2. Apple iPhone 13 Pro\n",
      "   - Camera: 12MP + 12MP + 12MP\n",
      "   - Price: Flipkart - ₹119,900, Amazon - ₹122,900\n",
      "   - Processor: Apple A15 Bionic\n",
      "   - Battery Capacity: 4082mAh\n",
      "\n",
      "3. Apple iPhone 12 Pro\n",
      "   - Camera: 12MP + 12MP + 12MP\n",
      "   - Price: Flipkart - ₹109,900, Amazon - ₹112,900\n",
      "   - Processor: Apple A14 Bionic\n",
      "   - Battery Capacity: 4082mAh\n",
      "\n",
      "4. Apple iPhone 13 Mini\n",
      "   - Camera: 12MP + 12MP\n",
      "   - Price: Flipkart - ₹104,900, Amazon - ₹107,900\n",
      "   - Processor: Apple A15 Bionic\n",
      "   - Battery Capacity: 2438mAh\n",
      "\n",
      "5. Apple iPhone 12 Pro Max\n",
      "   - Camera: 12MP + 12MP + 12MP\n",
      "   - Price: Flipkart - ₹129,900, Amazon - ₹132,900\n",
      "   - Processor: Apple A14 Bionic\n",
      "   - Battery Capacity: 5124mAh\n",
      "\n",
      "6. Apple iPhone 13 Pro Max\n",
      "   - Camera: 12MP + 12MP + 12MP\n",
      "   - Price: Flipkart - ₹139,900, Amazon - ₹142,900\n",
      "   - Processor: Apple A15 Bionic\n",
      "   - Battery Capacity: 5124mAh\n"
     ]
    }
   ],
   "source": [
    "print(results)"
   ]
  },
  {
   "cell_type": "code",
   "execution_count": 15,
   "metadata": {},
   "outputs": [
    {
     "data": {
      "text/plain": [
       "AIMessage(content=\"Since the iPhone 15 Pro Max has not been officially released by Apple, I don't have real-time pricing information. However, I can provide you with some context and rumored pricing.\\n\\nApple typically announces new iPhone models in September of each year. The prices of the new models are usually announced during the launch event.\\n\\nBased on previous trends and rumors, here are some possible price ranges for the iPhone 15 Pro Max:\\n\\n* 128GB: around $1,099 - $1,199\\n* 256GB: around $1,199 - $1,299\\n* 512GB: around $1,399 - $1,499\\n* 1TB: around $1,599 - $1,699\\n\\nPlease note that these prices are speculative and may not reflect the actual prices when the iPhone 15 Pro Max is released. I recommend checking Apple's official website or authorized retailers for the most up-to-date pricing information when the device is available.\\n\\nKeep in mind that prices may vary depending on the region, taxes, and other factors. I'll make sure to provide more accurate information when the iPhone 15 Pro Max is officially released.\", additional_kwargs={}, response_metadata={'token_usage': {'completion_tokens': 235, 'prompt_tokens': 45, 'total_tokens': 280, 'completion_time': 0.854545455, 'prompt_time': 0.004776339, 'queue_time': 0.234522327, 'total_time': 0.859321794}, 'model_name': 'llama-3.3-70b-versatile', 'system_fingerprint': 'fp_0a4b7a8df3', 'finish_reason': 'stop', 'logprobs': None}, id='run-0bb75c27-c8b2-4f55-ae05-7882bdcfa1b5-0', usage_metadata={'input_tokens': 45, 'output_tokens': 235, 'total_tokens': 280})"
      ]
     },
     "execution_count": 15,
     "metadata": {},
     "output_type": "execute_result"
    }
   ],
   "source": [
    "llm.invoke(\"what is the price of iphone 15 pro max\")"
   ]
  }
 ],
 "metadata": {
  "kernelspec": {
   "display_name": "GENAI",
   "language": "python",
   "name": "python3"
  },
  "language_info": {
   "codemirror_mode": {
    "name": "ipython",
    "version": 3
   },
   "file_extension": ".py",
   "mimetype": "text/x-python",
   "name": "python",
   "nbconvert_exporter": "python",
   "pygments_lexer": "ipython3",
   "version": "3.11.11"
  }
 },
 "nbformat": 4,
 "nbformat_minor": 2
}
